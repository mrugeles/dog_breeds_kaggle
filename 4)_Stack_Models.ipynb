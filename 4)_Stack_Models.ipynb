{
  "nbformat": 4,
  "nbformat_minor": 0,
  "metadata": {
    "colab": {
      "name": "4) Stack Models",
      "version": "0.3.2",
      "provenance": [],
      "collapsed_sections": []
    },
    "kernelspec": {
      "name": "python3",
      "display_name": "Python 3"
    },
    "accelerator": "GPU"
  },
  "cells": [
    {
      "cell_type": "code",
      "metadata": {
        "id": "upuJJCbWfY1u",
        "colab_type": "code",
        "outputId": "c58dff54-5649-460c-f035-98e2bce11ebe",
        "colab": {
          "base_uri": "https://localhost:8080/",
          "height": 1023
        }
      },
      "source": [
        "!rm dogImages.zip\n",
        "!rm -rf dogImages\n",
        "!wget https://s3-us-west-1.amazonaws.com/udacity-aind/dog-project/dogImages.zip\n",
        "!unzip -qq dogImages.zip\n",
        "!rm *.py\n",
        "!wget https://raw.githubusercontent.com/mrugeles/dog_breeds/master/data_utils.py\n",
        "!wget https://raw.githubusercontent.com/mrugeles/dog_breeds/master/model_utils.py\n",
        "!wget https://raw.githubusercontent.com/mrugeles/dog_breeds/master/model_stack.py\n",
        "  \n",
        "!rm *.npz\n",
        "!wget https://s3-us-west-1.amazonaws.com/udacity-aind/dog-project/DogXceptionData.npz"
      ],
      "execution_count": 0,
      "outputs": [
        {
          "output_type": "stream",
          "text": [
            "rm: cannot remove 'dogImages.zip': No such file or directory\n",
            "--2019-05-10 12:33:20--  https://s3-us-west-1.amazonaws.com/udacity-aind/dog-project/dogImages.zip\n",
            "Resolving s3-us-west-1.amazonaws.com (s3-us-west-1.amazonaws.com)... 52.219.116.24\n",
            "Connecting to s3-us-west-1.amazonaws.com (s3-us-west-1.amazonaws.com)|52.219.116.24|:443... connected.\n",
            "HTTP request sent, awaiting response... 200 OK\n",
            "Length: 1132023110 (1.1G) [application/zip]\n",
            "Saving to: ‘dogImages.zip’\n",
            "\n",
            "dogImages.zip       100%[===================>]   1.05G  56.2MB/s    in 19s     \n",
            "\n",
            "2019-05-10 12:33:44 (57.4 MB/s) - ‘dogImages.zip’ saved [1132023110/1132023110]\n",
            "\n",
            "rm: cannot remove '*.py': No such file or directory\n",
            "--2019-05-10 12:33:58--  https://raw.githubusercontent.com/mrugeles/dog_breeds/master/data_utils.py\n",
            "Resolving raw.githubusercontent.com (raw.githubusercontent.com)... 151.101.0.133, 151.101.64.133, 151.101.128.133, ...\n",
            "Connecting to raw.githubusercontent.com (raw.githubusercontent.com)|151.101.0.133|:443... connected.\n",
            "HTTP request sent, awaiting response... 200 OK\n",
            "Length: 4201 (4.1K) [text/plain]\n",
            "Saving to: ‘data_utils.py’\n",
            "\n",
            "data_utils.py       100%[===================>]   4.10K  --.-KB/s    in 0s      \n",
            "\n",
            "2019-05-10 12:33:58 (93.7 MB/s) - ‘data_utils.py’ saved [4201/4201]\n",
            "\n",
            "--2019-05-10 12:33:59--  https://raw.githubusercontent.com/mrugeles/dog_breeds/master/model_utils.py\n",
            "Resolving raw.githubusercontent.com (raw.githubusercontent.com)... 151.101.0.133, 151.101.64.133, 151.101.128.133, ...\n",
            "Connecting to raw.githubusercontent.com (raw.githubusercontent.com)|151.101.0.133|:443... connected.\n",
            "HTTP request sent, awaiting response... 200 OK\n",
            "Length: 4446 (4.3K) [text/plain]\n",
            "Saving to: ‘model_utils.py’\n",
            "\n",
            "model_utils.py      100%[===================>]   4.34K  --.-KB/s    in 0s      \n",
            "\n",
            "2019-05-10 12:34:00 (112 MB/s) - ‘model_utils.py’ saved [4446/4446]\n",
            "\n",
            "--2019-05-10 12:34:01--  https://raw.githubusercontent.com/mrugeles/dog_breeds/master/model_stack.py\n",
            "Resolving raw.githubusercontent.com (raw.githubusercontent.com)... 151.101.0.133, 151.101.64.133, 151.101.128.133, ...\n",
            "Connecting to raw.githubusercontent.com (raw.githubusercontent.com)|151.101.0.133|:443... connected.\n",
            "HTTP request sent, awaiting response... 200 OK\n",
            "Length: 3698 (3.6K) [text/plain]\n",
            "Saving to: ‘model_stack.py’\n",
            "\n",
            "model_stack.py      100%[===================>]   3.61K  --.-KB/s    in 0s      \n",
            "\n",
            "2019-05-10 12:34:01 (91.9 MB/s) - ‘model_stack.py’ saved [3698/3698]\n",
            "\n",
            "rm: cannot remove '*.npz': No such file or directory\n",
            "--2019-05-10 12:34:03--  https://s3-us-west-1.amazonaws.com/udacity-aind/dog-project/DogXceptionData.npz\n",
            "Resolving s3-us-west-1.amazonaws.com (s3-us-west-1.amazonaws.com)... 54.231.236.29\n",
            "Connecting to s3-us-west-1.amazonaws.com (s3-us-west-1.amazonaws.com)|54.231.236.29|:443... connected.\n",
            "HTTP request sent, awaiting response... 200 OK\n",
            "Length: 3352158914 (3.1G) [application/x-www-form-urlencoded]\n",
            "Saving to: ‘DogXceptionData.npz’\n",
            "\n",
            "DogXceptionData.npz 100%[===================>]   3.12G  43.5MB/s    in 63s     \n",
            "\n",
            "2019-05-10 12:35:06 (51.0 MB/s) - ‘DogXceptionData.npz’ saved [3352158914/3352158914]\n",
            "\n"
          ],
          "name": "stdout"
        }
      ]
    },
    {
      "cell_type": "code",
      "metadata": {
        "id": "VqIG3iRC0Qd8",
        "colab_type": "code",
        "outputId": "a83c74a1-f039-4b22-9aaf-302fadcbd77d",
        "colab": {
          "base_uri": "https://localhost:8080/",
          "height": 34
        }
      },
      "source": [
        "import data_utils\n",
        "import model_utils\n",
        "import model_stack\n",
        "import time\n",
        "import numpy as np\n",
        "from keras.models import load_model\n",
        "\n",
        "BATCH_SIZE = 16\n",
        "TRAIN_PATH = './dogImages/train'\n",
        "VALID_PATH = './dogImages/valid'\n",
        "TEST_PATH = './dogImages/test'\n",
        "\n",
        "WEIGHTS_FILE = 'weights.stackedXception.hdf5'\n",
        "MODEL_FILE = 'weights.stacked.json'\n"
      ],
      "execution_count": 0,
      "outputs": [
        {
          "output_type": "stream",
          "text": [
            "Using TensorFlow backend.\n"
          ],
          "name": "stderr"
        }
      ]
    },
    {
      "cell_type": "code",
      "metadata": {
        "id": "NDkYkJLBCbpQ",
        "colab_type": "code",
        "outputId": "1146bf96-5a73-4624-b085-55e3f817b559",
        "colab": {
          "base_uri": "https://localhost:8080/",
          "height": 119
        }
      },
      "source": [
        "train_files, train_targets, valid_files, valid_targets, test_files, test_targets, dog_names = data_utils.load_datasets(TRAIN_PATH, VALID_PATH, TEST_PATH, True)\n"
      ],
      "execution_count": 0,
      "outputs": [
        {
          "output_type": "stream",
          "text": [
            "There are 133 total dog categories.\n",
            "There are 8351 total dog images.\n",
            "\n",
            "There are 6680 training dog images.\n",
            "There are 835 validation dog images.\n",
            "There are 836 test dog images.\n"
          ],
          "name": "stdout"
        }
      ]
    },
    {
      "cell_type": "code",
      "metadata": {
        "id": "rzHDf49D-LCd",
        "colab_type": "code",
        "colab": {}
      },
      "source": [
        "from keras.layers import Conv2D, MaxPooling2D, GlobalAveragePooling2D\n",
        "from keras.layers import Dropout, Flatten, Dense\n",
        "from keras.models import Sequential\n",
        "from keras.callbacks import ModelCheckpoint  \n",
        "\n",
        "def get_bottleneck_features(bottleneck_file):\n",
        "\n",
        "  bottleneck_features = np.load(bottleneck_file)\n",
        "  train = bottleneck_features['train']\n",
        "  valid = bottleneck_features['valid']\n",
        "  test = bottleneck_features['test']\n",
        "  return train, valid, test\n",
        "\n",
        "def get_model_Xception(train_features, shape):\n",
        "  \n",
        "\n",
        "  from keras.callbacks import ModelCheckpoint  \n",
        "  model = Sequential()\n",
        "\n",
        "  model.add(Conv2D(filters=2048, kernel_size=2, padding='same', activation='relu', kernel_initializer='random_uniform', input_shape=shape))\n",
        "  model.add(Conv2D(filters=2048, kernel_size=2, padding='same', activation='relu'))\n",
        "  model.add(MaxPooling2D(pool_size=2))\n",
        "  \n",
        "  model.add(Dropout(0.05))\n",
        "  model.add(GlobalAveragePooling2D(input_shape=train_targets.shape[1:]))\n",
        "  model.add(Dense(133, activation='softmax'))\n",
        "\n",
        "  return model\n",
        "\n",
        "model_dictionary = {\n",
        "    'DogXceptionData': get_model_Xception\n",
        "}\n",
        "\n",
        "  \n",
        "def train_model(model, epochs, train_features, valid_features, train_targets, valid_targets, weights_file):\n",
        "  model.compile(optimizer='sgd', loss='categorical_crossentropy', metrics=['accuracy'])\n",
        "\n",
        "  checkpointer = ModelCheckpoint(filepath=weights_file, verbose=0, save_best_only=True)\n",
        "\n",
        "  history = model.fit(\n",
        "      train_features, \n",
        "      train_targets, \n",
        "      validation_data=(valid_features, valid_targets),\n",
        "      epochs=epochs, \n",
        "      batch_size=20, \n",
        "      callbacks=[checkpointer], \n",
        "      verbose=0)\n",
        "  return model, history\n",
        "\n",
        "def build_bottleneck_n_model(bottleneck, n, epochs):\n",
        "  bottleneck_file = bottleneck + '.npz'\n",
        "  weights_file = 'weights.'+bottleneck+'_'+str(n)+'.hdf5'\n",
        "  train_features, valid_features, test_features = get_bottleneck_features(bottleneck_file)\n",
        "  #test_tensors.append(test_features)\n",
        "  input_shape = (train_features.shape[1], train_features.shape[2], train_features.shape[3])\n",
        "  get_model = model_dictionary[bottleneck]\n",
        "  model = get_model(train_features, input_shape)  \n",
        "  model, history = train_model(model, epochs, train_features, valid_features, train_targets, valid_targets, weights_file)  \n",
        "  return model, history, test_features\n",
        "\n"
      ],
      "execution_count": 0,
      "outputs": []
    },
    {
      "cell_type": "code",
      "metadata": {
        "id": "po1g1KAC-Uv0",
        "colab_type": "code",
        "outputId": "04f6b82f-394c-47a0-9830-e9176b7a62ee",
        "colab": {
          "base_uri": "https://localhost:8080/",
          "height": 292
        }
      },
      "source": [
        "start_time = time.time()\n",
        "\n",
        "bottleneck = 'DogXceptionData'\n",
        "n_models = 5\n",
        "\n",
        "models = []\n",
        "\n",
        "for i in range(6):\n",
        "  n = i + 1\n",
        "  model, history, test_features = build_bottleneck_n_model(bottleneck, n ,20)\n",
        "  weight_file = 'weights.'+bottleneck+'_'+str(n)+'.hdf5'\n",
        "  models.append(load_model(weight_file))\n",
        "  accuracy = model_utils.eval_model(model, weight_file, test_features, test_targets)\n",
        "  print('Sub model %s %d accuracy: %.4f%%' % (bottleneck, n, accuracy))"
      ],
      "execution_count": 0,
      "outputs": [
        {
          "output_type": "stream",
          "text": [
            "WARNING:tensorflow:From /usr/local/lib/python3.6/dist-packages/tensorflow/python/framework/op_def_library.py:263: colocate_with (from tensorflow.python.framework.ops) is deprecated and will be removed in a future version.\n",
            "Instructions for updating:\n",
            "Colocations handled automatically by placer.\n",
            "WARNING:tensorflow:From /usr/local/lib/python3.6/dist-packages/keras/backend/tensorflow_backend.py:3445: calling dropout (from tensorflow.python.ops.nn_ops) with keep_prob is deprecated and will be removed in a future version.\n",
            "Instructions for updating:\n",
            "Please use `rate` instead of `keep_prob`. Rate should be set to `rate = 1 - keep_prob`.\n",
            "WARNING:tensorflow:From /usr/local/lib/python3.6/dist-packages/tensorflow/python/ops/math_ops.py:3066: to_int32 (from tensorflow.python.ops.math_ops) is deprecated and will be removed in a future version.\n",
            "Instructions for updating:\n",
            "Use tf.cast instead.\n",
            "Sub model DogXceptionData 1 accuracy: 83.8517%\n",
            "Sub model DogXceptionData 2 accuracy: 85.1675%\n",
            "Sub model DogXceptionData 3 accuracy: 83.8517%\n",
            "Sub model DogXceptionData 4 accuracy: 84.5694%\n",
            "Sub model DogXceptionData 5 accuracy: 84.9282%\n",
            "Sub model DogXceptionData 6 accuracy: 84.6890%\n"
          ],
          "name": "stdout"
        }
      ]
    },
    {
      "cell_type": "code",
      "metadata": {
        "id": "DckPz3StGL7b",
        "colab_type": "code",
        "colab": {}
      },
      "source": [
        "from keras.preprocessing import image                  \n",
        "from tqdm import tqdm\n",
        "\n",
        "def path_to_tensor(img_path):\n",
        "    # loads RGB image as PIL.Image.Image type\n",
        "    img = image.load_img(img_path, target_size=(224, 224))\n",
        "    # convert PIL.Image.Image type to 3D tensor with shape (224, 224, 3)\n",
        "    x = image.img_to_array(img)\n",
        "    # convert 3D tensor to 4D tensor with shape (1, 224, 224, 3) and return 4D tensor\n",
        "    return np.expand_dims(x, axis=0)\n",
        "\n",
        "def paths_to_tensor(img_paths):\n",
        "    list_of_tensors = [path_to_tensor(img_path) for img_path in tqdm(img_paths)]\n",
        "    return np.vstack(list_of_tensors)"
      ],
      "execution_count": 0,
      "outputs": []
    },
    {
      "cell_type": "code",
      "metadata": {
        "id": "QFbEvbw28O5B",
        "colab_type": "code",
        "colab": {}
      },
      "source": [
        "bottleneck_features = np.load('DogXceptionData.npz')\n",
        "valid_tensors = bottleneck_features['valid']\n",
        "test_tensors = bottleneck_features['test']"
      ],
      "execution_count": 0,
      "outputs": []
    },
    {
      "cell_type": "code",
      "metadata": {
        "id": "pWIqcCzGiDPk",
        "colab_type": "code",
        "colab": {}
      },
      "source": [
        "import numpy as np\n",
        "\n",
        "X_train = model_stack.stacked_dataset(models, valid_tensors)\n",
        "X_test =  model_stack.stacked_dataset(models, test_tensors)\n",
        "\n",
        "y_train = np.argmax(valid_targets, axis = 1)\n",
        "y_test = np.argmax(test_targets, axis = 1)"
      ],
      "execution_count": 0,
      "outputs": []
    },
    {
      "cell_type": "code",
      "metadata": {
        "id": "GcgY3TkIrqwE",
        "colab_type": "code",
        "outputId": "0a2c6b47-bd85-40ec-d507-0f6ab8430a97",
        "colab": {
          "base_uri": "https://localhost:8080/",
          "height": 365
        }
      },
      "source": [
        "import pandas as pd\n",
        "targets_df = pd.DataFrame(y_train, columns = ['target'])\n",
        "target_count = targets_df['target'].value_counts()\n",
        "target_count.sort_index().plot(kind='bar', title='Target Distribution', figsize = (20, 5));"
      ],
      "execution_count": 0,
      "outputs": [
        {
          "output_type": "display_data",
          "data": {
            "image/png": "[encoded data removed]",
            "text/plain": [
              "<Figure size 1440x360 with 1 Axes>"
            ]
          },
          "metadata": {
            "tags": []
          }
        }
      ]
    },
    {
      "cell_type": "code",
      "metadata": {
        "id": "Yx8JI8NZ75al",
        "colab_type": "code",
        "colab": {}
      },
      "source": [
        "class_weights = data_utils.get_class_weights(y_train)"
      ],
      "execution_count": 0,
      "outputs": []
    },
    {
      "cell_type": "code",
      "metadata": {
        "id": "-Sgp9sq67_0m",
        "colab_type": "code",
        "colab": {}
      },
      "source": [
        "from keras.models import Sequential\n",
        "from keras.layers import Dense, Dropout\n",
        "from keras import regularizers\n",
        "\n",
        "model = Sequential()\n",
        "model.add(Dense(units=256, activation='tanh', input_dim=798))\n",
        "model.add(Dropout(0.4))\n",
        "\n",
        "model.add(Dense(units=133, activation='softmax'))\n",
        "\n"
      ],
      "execution_count": 0,
      "outputs": []
    },
    {
      "cell_type": "code",
      "metadata": {
        "id": "T81dqUCU8RpJ",
        "colab_type": "code",
        "colab": {}
      },
      "source": [
        "model.compile(optimizer='adam', loss='sparse_categorical_crossentropy', metrics=['sparse_categorical_accuracy'])\n",
        "from keras.callbacks import ModelCheckpoint  \n",
        "\n",
        "### TODO: specify the number of epochs that you would like to use to train the model.\n",
        "\n",
        "epochs = 100\n",
        "\n",
        "### Do NOT modify the code below this line.\n",
        "\n",
        "checkpointer = ModelCheckpoint(filepath=WEIGHTS_FILE, \n",
        "                               verbose=0, save_best_only=True)\n",
        "\n",
        "history = model.fit(X_train, \n",
        "                    y_train, \n",
        "                    class_weight = class_weights,\n",
        "                    validation_data=(X_test, y_test),\n",
        "                    epochs=epochs, \n",
        "                    batch_size=32, \n",
        "                    callbacks=[checkpointer], \n",
        "                    verbose=0)"
      ],
      "execution_count": 0,
      "outputs": []
    },
    {
      "cell_type": "code",
      "metadata": {
        "id": "xI4fqizQ8qPt",
        "colab_type": "code",
        "outputId": "cdf1dcf0-4e32-4d88-adbe-da56711ce98f",
        "colab": {
          "base_uri": "https://localhost:8080/",
          "height": 384
        }
      },
      "source": [
        "model_utils.plot_history(history, 'sparse_categorical_accuracy', 'val_sparse_categorical_accuracy')\n",
        "\n",
        "accuracy = model_utils.eval_model(model, WEIGHTS_FILE, X_test, y_test, False)\n",
        "print('Test accuracy: %.4f%%' % accuracy)\n",
        "\n",
        "end_time = time.time() - start_time\n",
        "print('Training time: %.4f%% minutes' % (end_time / 60))\n"
      ],
      "execution_count": 0,
      "outputs": [
        {
          "output_type": "display_data",
          "data": {
            "image/png": "[encoded data removed]",
            "text/plain": [
              "<Figure size 1080x360 with 2 Axes>"
            ]
          },
          "metadata": {
            "tags": []
          }
        },
        {
          "output_type": "stream",
          "text": [
            "Test accuracy: 85.1675%\n",
            "Training time: 53.3998% minutes\n"
          ],
          "name": "stdout"
        }
      ]
    },
    {
      "cell_type": "code",
      "metadata": {
        "id": "MbZ2yARPS_aa",
        "colab_type": "code",
        "colab": {
          "base_uri": "https://localhost:8080/",
          "height": 336
        },
        "outputId": "490672b6-88e0-46a1-a165-18765f7f220c"
      },
      "source": [
        "import matplotlib.pyplot as plt\n",
        "import numpy as np\n",
        "\n",
        "N = 11\n",
        "accuracy = (3.3493, 3.2297, 5.1435, 20.5742, 23.32, 29.18, 30.14, 73.68, 83.49, 83.01, 85.64)\n",
        "training_time = (13.2768, 27.5621, 26.9083, 46.4994, 25.46, 66.69, 66.24, 0.67, 0.97, 3.12, 8.78)\n",
        "\n",
        "ind = np.arange(N) \n",
        "width = 0.25    \n",
        "plt.subplots(1, 1, figsize=(21, 5))\n",
        "plt.bar(ind, accuracy, width, label='Accuracy')\n",
        "plt.bar(ind + width, training_time, width, label='Training time')\n",
        "\n",
        "plt.ylabel('Metric')\n",
        "plt.title('Training metrics comparison from all the models')\n",
        "\n",
        "plt.xticks(ind + width / 2, ('Model 1', 'Model 2', 'Model 3', 'Model 4', 'Tuned Model 1', 'Tuned Model 2', 'Tuned Model 3', 'DogVGG19Data', 'DogResnet50Data', 'DogInceptionV3Data', 'DogXceptionData'))\n",
        "plt.legend(loc='best')\n",
        "plt.show()"
      ],
      "execution_count": 8,
      "outputs": [
        {
          "output_type": "display_data",
          "data": {
            "image/png": "[encoded data removed]",
            "text/plain": [
              "<Figure size 1512x360 with 1 Axes>"
            ]
          },
          "metadata": {
            "tags": []
          }
        }
      ]
    },
    {
      "cell_type": "code",
      "metadata": {
        "id": "K5Pm8Aq8YDQm",
        "colab_type": "code",
        "colab": {
          "base_uri": "https://localhost:8080/",
          "height": 336
        },
        "outputId": "6b706ed5-9387-46e8-83b1-dea832808726"
      },
      "source": [
        "import matplotlib.pyplot as plt\n",
        "import numpy as np\n",
        "\n",
        "N = 2\n",
        "accuracy = (85.64, 85.16)\n",
        "training_time = (8.78, 53.39)\n",
        "\n",
        "ind = np.arange(N) \n",
        "width = 0.25    \n",
        "plt.subplots(1, 1, figsize=(10, 5))\n",
        "plt.bar(ind, accuracy, width, label='Accuracy')\n",
        "plt.bar(ind + width, training_time, width, label='Training time')\n",
        "\n",
        "plt.ylabel('Metric')\n",
        "plt.title('DogXceptionData vs Stacked Model - Training metrics comparison')\n",
        "\n",
        "plt.xticks(ind + width / 2, ('DogXceptionData', 'Stacked Model'))\n",
        "plt.legend(loc='best')\n",
        "plt.show()"
      ],
      "execution_count": 9,
      "outputs": [
        {
          "output_type": "display_data",
          "data": {
            "image/png": "[encoded data removed]",
            "text/plain": [
              "<Figure size 720x360 with 1 Axes>"
            ]
          },
          "metadata": {
            "tags": []
          }
        }
      ]
    },
    {
      "cell_type": "markdown",
      "metadata": {
        "id": "vuzC1qHhAPYF",
        "colab_type": "text"
      },
      "source": [
        "Test accuracy: 85.5263%"
      ]
    }
  ]
}